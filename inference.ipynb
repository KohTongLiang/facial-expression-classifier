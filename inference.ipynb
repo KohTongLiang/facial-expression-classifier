{
 "cells": [
  {
   "cell_type": "code",
   "execution_count": 1,
   "metadata": {},
   "outputs": [
    {
     "name": "stdout",
     "output_type": "stream",
     "text": [
      "1.7.1\n",
      "10.2\n"
     ]
    }
   ],
   "source": [
    "import torch\n",
    "\n",
    "print(torch.__version__)\n",
    "print(torch.version.cuda)"
   ]
  },
  {
   "cell_type": "markdown",
   "metadata": {},
   "source": [
    "### Testing trained model\n",
    "\n",
    "Load a small sample of testing images for inference."
   ]
  },
  {
   "cell_type": "code",
   "execution_count": 46,
   "metadata": {},
   "outputs": [
    {
     "name": "stdout",
     "output_type": "stream",
     "text": [
      "Predicted: happy Actual: happy\n",
      "Predicted: angry Actual: angry\n",
      "Predicted: fear Actual: fear\n",
      "Predicted: sad Actual: angry\n",
      "Predicted: sad Actual: angry\n",
      "Predicted: fear Actual: neutral\n",
      "Predicted: fear Actual: disgust\n",
      "Predicted: happy Actual: happy\n",
      "Predicted: fear Actual: fear\n",
      "Predicted: sad Actual: neutral\n",
      "Predicted: surprise Actual: surprise\n",
      "Predicted: sad Actual: sad\n",
      "Predicted: surprise Actual: surprise\n",
      "Predicted: surprise Actual: surprise\n",
      "Predicted: fear Actual: fear\n",
      "Predicted: happy Actual: angry\n",
      "Predicted: neutral Actual: disgust\n",
      "Predicted: neutral Actual: neutral\n",
      "Predicted: surprise Actual: surprise\n",
      "Predicted: angry Actual: disgust\n",
      "Predicted: angry Actual: sad\n",
      "Predicted: sad Actual: sad\n",
      "Predicted: happy Actual: happy\n",
      "Predicted: fear Actual: fear\n",
      "Predicted: happy Actual: happy\n",
      "Predicted: neutral Actual: neutral\n",
      "Predicted: surprise Actual: disgust\n",
      "Predicted: sad Actual: sad\n",
      "Test Error: \n",
      " Accuracy: 64.3%, Avg loss: 2.180708 \n",
      "\n"
     ]
    }
   ],
   "source": [
    "from model import Classifier\n",
    "from torchvision import transforms, datasets, utils\n",
    "from torch.utils.data import DataLoader\n",
    "from torch import nn\n",
    "\n",
    "import matplotlib.pyplot as plt\n",
    "\n",
    "device = 'cuda'\n",
    "batch = 4\n",
    "\n",
    "labels = {\n",
    "    0: 'angry',\n",
    "    1: 'disgust',\n",
    "    2: 'fear',\n",
    "    3: 'happy',\n",
    "    4: 'neutral',\n",
    "    5: 'sad',\n",
    "    6: 'surprise'\n",
    "}\n",
    "\n",
    "def prepare_dataset(root_dir, batch_size, transform):\n",
    "    test_dataset = datasets.ImageFolder(root=f'{root_dir}/inference/', transform=transform)\n",
    "    test_dataloader = DataLoader(test_dataset, batch_size, shuffle=True, num_workers=4)\n",
    "    return test_dataloader\n",
    "\n",
    "def test(test_dataloader, model, loss_fn):\n",
    "    size = len(test_dataloader.dataset)\n",
    "    test_batches = len(test_dataloader)\n",
    "    model.eval()\n",
    "    test_loss, correct = 0, 0\n",
    "\n",
    "    with torch.no_grad():\n",
    "        for x, y in test_dataloader:\n",
    "            x, y = x.to(device), y.to(device)\n",
    "            pred = model(x)\n",
    "            test_loss += loss_fn(pred, y).item()\n",
    "            correct += (pred.argmax(1) == y).type(torch.float).sum().item()\n",
    "            for i,j,im in zip(pred.argmax(1), y, x):\n",
    "                print(f\"Predicted: {labels[i.item()]} Actual: {labels[j.item()]}\")\n",
    "\n",
    "\n",
    "    test_loss /= test_batches\n",
    "    correct /= size\n",
    "    print(f\"Test Error: \\n Accuracy: {(100*correct):>0.1f}%, Avg loss: {test_loss:>8f} \\n\")\n",
    "\n",
    "# prepare dataset\n",
    "transform = transforms.Compose([\n",
    "    # you can add other transformations in this list\n",
    "    transforms.ToTensor()\n",
    "])\n",
    "\n",
    "test_dataloader = prepare_dataset('./dataset', 4, transform)\n",
    "    \n",
    "model = Classifier().to(device)\n",
    "\n",
    "checkpoint = torch.load('./checkpoints/model_epoch_49.pth')\n",
    "model.load_state_dict(checkpoint)\n",
    "\n",
    "\n",
    "# define loss objective\n",
    "loss_fn = nn.CrossEntropyLoss()\n",
    "\n",
    "test(test_dataloader, model, loss_fn)\n",
    "\n"
   ]
  },
  {
   "cell_type": "markdown",
   "metadata": {},
   "source": [
    "### Custom input images\n",
    "\n",
    "Load custom images in mini-batch of 1 to perform classification using our trained model. You can place your custom images in input_images folder."
   ]
  },
  {
   "cell_type": "code",
   "execution_count": 56,
   "metadata": {},
   "outputs": [
    {
     "name": "stdout",
     "output_type": "stream",
     "text": [
      "2\n"
     ]
    }
   ],
   "source": [
    "# preprocess custom images to gray scale 48x48\n",
    "import cv2\n",
    "\n",
    "path = './input_images'\n",
    "out_path = './processed_input/images'\n",
    "\n",
    "images = [cv2.resize(cv2.cvtColor(cv2.imread(file), cv2.COLOR_BGR2GRAY),(48,48)) for file in glob.glob(f'{path}/*.jpg')]\n",
    "\n",
    "i = 0\n",
    "for im in images:\n",
    "    cv2.imwrite(f\"{out_path}/image_{i}.jpg\", im)\n",
    "    i+=1\n"
   ]
  },
  {
   "cell_type": "code",
   "execution_count": 57,
   "metadata": {},
   "outputs": [
    {
     "name": "stdout",
     "output_type": "stream",
     "text": [
      "predictions: ['happy', 'happy']\n"
     ]
    },
    {
     "data": {
      "image/png": "[encoded data removed]",
      "text/plain": [
       "<Figure size 432x288 with 1 Axes>"
      ]
     },
     "metadata": {
      "needs_background": "light"
     },
     "output_type": "display_data"
    }
   ],
   "source": [
    "import cv2\n",
    "import matplotlib.pyplot as plt\n",
    "import glob\n",
    "\n",
    "from torchvision import transforms, datasets, utils\n",
    "from torch.utils.data import DataLoader\n",
    "from model import Classifier\n",
    "\n",
    "batch = 1\n",
    "path = './processed_input'\n",
    "\n",
    "def prepare_dataset(root_dir, batch_size, transform):\n",
    "    test_dataset = datasets.ImageFolder(root=f'{root_dir}/', transform=transform)\n",
    "    test_dataloader = DataLoader(test_dataset, batch_size, shuffle=True, num_workers=4)\n",
    "    return test_dataloader\n",
    "\n",
    "def test(test_dataloader, model):\n",
    "    model.eval()\n",
    "    prediction = []\n",
    "\n",
    "    with torch.no_grad():\n",
    "        for x, y in test_dataloader:\n",
    "            x = x.to(device)\n",
    "            pred = model(x)\n",
    "            prediction.append(labels[pred.argmax(1).item()])\n",
    "\n",
    "    return prediction\n",
    "\n",
    "\n",
    "# prepare dataset\n",
    "transform = transforms.Compose([\n",
    "    transforms.ToTensor()\n",
    "])\n",
    "\n",
    "test_dataloader = prepare_dataset(f'./{path}', batch, transform)\n",
    "\n",
    "model = Classifier().to(device)\n",
    "\n",
    "checkpoint = torch.load('./checkpoints/model_epoch_49.pth')\n",
    "model.load_state_dict(checkpoint)\n",
    "\n",
    "# im = cv2.imread('./input_images/images/input.jpg')\n",
    "images = [transform(cv2.imread(file)) for file in glob.glob(f'{path}/images/*.jpg')]\n",
    "grid = utils.make_grid(images, nrow=len(images))\n",
    "plt.axis('off')\n",
    "plt.imshow(grid.permute(1, 2, 0))\n",
    "\n",
    "prediction = test(test_dataloader, model)\n",
    "\n",
    "print(f'predictions: {prediction}')\n"
   ]
  }
 ],
 "metadata": {
  "interpreter": {
   "hash": "b32ebe9691fabc979268882da5833bb131d48c7c34c298f6386ea1d7e0a9817a"
  },
  "kernelspec": {
   "display_name": "Python 3.9.5 64-bit ('cartoon-stylegan2': conda)",
   "language": "python",
   "name": "python3"
  },
  "language_info": {
   "codemirror_mode": {
    "name": "ipython",
    "version": 3
   },
   "file_extension": ".py",
   "mimetype": "text/x-python",
   "name": "python",
   "nbconvert_exporter": "python",
   "pygments_lexer": "ipython3",
   "version": "3.9.5"
  },
  "orig_nbformat": 4
 },
 "nbformat": 4,
 "nbformat_minor": 2
}
